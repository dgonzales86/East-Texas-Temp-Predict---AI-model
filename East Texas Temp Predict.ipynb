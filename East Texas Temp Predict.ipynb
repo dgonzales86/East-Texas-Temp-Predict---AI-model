{
 "cells": [
  {
   "cell_type": "markdown",
   "id": "35bddb03",
   "metadata": {},
   "source": [
    "# East Texas Temp Predict: A Data Product to Mitigate Crop Loss"
   ]
  },
  {
   "cell_type": "code",
   "execution_count": 1,
   "id": "e741a8db",
   "metadata": {},
   "outputs": [],
   "source": [
    "import pandas as pd\n",
    "import numpy as np\n",
    "import seaborn as sns\n",
    "import ipywidgets as widgets\n",
    "from ipywidgets import interact\n",
    "from IPython.display import display, clear_output\n",
    "import matplotlib.pyplot as plt\n",
    "%matplotlib inline\n",
    "from sklearn.model_selection import train_test_split\n",
    "from sklearn.metrics import mean_absolute_error as mae\n",
    "from sklearn.metrics import mean_squared_error as mse\n",
    "from sklearn.metrics import r2_score as r2_score\n",
    "import pickle\n",
    "import warnings\n",
    "warnings.filterwarnings('ignore') # Ignores warnings about future depreciation\n"
   ]
  },
  {
   "cell_type": "markdown",
   "id": "af4b861a",
   "metadata": {},
   "source": [
    "### Data provided by:\n",
    "National Centers for Environmental Information\n",
    "\n",
    "https://www.ncei.noaa.gov/cdo-web/datasets/GHCND/locations/CITY:US480034/detail"
   ]
  },
  {
   "cell_type": "code",
   "execution_count": 2,
   "id": "597bc1cb",
   "metadata": {},
   "outputs": [],
   "source": [
    "# Using pandas, reads csv file and creates a dataframe\n",
    "source_weather_data = pd.read_csv('CS-Data-modified.csv')"
   ]
  },
  {
   "cell_type": "code",
   "execution_count": 3,
   "id": "6af8d192",
   "metadata": {},
   "outputs": [
    {
     "data": {
      "text/html": [
       "<div>\n",
       "<style scoped>\n",
       "    .dataframe tbody tr th:only-of-type {\n",
       "        vertical-align: middle;\n",
       "    }\n",
       "\n",
       "    .dataframe tbody tr th {\n",
       "        vertical-align: top;\n",
       "    }\n",
       "\n",
       "    .dataframe thead th {\n",
       "        text-align: right;\n",
       "    }\n",
       "</style>\n",
       "<table border=\"1\" class=\"dataframe\">\n",
       "  <thead>\n",
       "    <tr style=\"text-align: right;\">\n",
       "      <th></th>\n",
       "      <th>STATION</th>\n",
       "      <th>NAME</th>\n",
       "      <th>DATE</th>\n",
       "      <th>DAPR</th>\n",
       "      <th>MDPR</th>\n",
       "      <th>MDSF</th>\n",
       "      <th>PRCP</th>\n",
       "      <th>SNOW</th>\n",
       "      <th>SNWD</th>\n",
       "      <th>TMAX</th>\n",
       "      <th>TMIN</th>\n",
       "      <th>TOBS</th>\n",
       "    </tr>\n",
       "  </thead>\n",
       "  <tbody>\n",
       "    <tr>\n",
       "      <th>0</th>\n",
       "      <td>USC00414525</td>\n",
       "      <td>JACKSONVILLE, TX US</td>\n",
       "      <td>1960-02-01</td>\n",
       "      <td>NaN</td>\n",
       "      <td>NaN</td>\n",
       "      <td>NaN</td>\n",
       "      <td>0.0</td>\n",
       "      <td>0.0</td>\n",
       "      <td>0.0</td>\n",
       "      <td>NaN</td>\n",
       "      <td>NaN</td>\n",
       "      <td>NaN</td>\n",
       "    </tr>\n",
       "    <tr>\n",
       "      <th>1</th>\n",
       "      <td>USC00414525</td>\n",
       "      <td>JACKSONVILLE, TX US</td>\n",
       "      <td>1960-02-02</td>\n",
       "      <td>NaN</td>\n",
       "      <td>NaN</td>\n",
       "      <td>NaN</td>\n",
       "      <td>0.0</td>\n",
       "      <td>0.0</td>\n",
       "      <td>0.0</td>\n",
       "      <td>NaN</td>\n",
       "      <td>NaN</td>\n",
       "      <td>NaN</td>\n",
       "    </tr>\n",
       "    <tr>\n",
       "      <th>2</th>\n",
       "      <td>USC00414525</td>\n",
       "      <td>JACKSONVILLE, TX US</td>\n",
       "      <td>1960-02-03</td>\n",
       "      <td>NaN</td>\n",
       "      <td>NaN</td>\n",
       "      <td>NaN</td>\n",
       "      <td>1.5</td>\n",
       "      <td>0.0</td>\n",
       "      <td>0.0</td>\n",
       "      <td>63.0</td>\n",
       "      <td>44.0</td>\n",
       "      <td>46.0</td>\n",
       "    </tr>\n",
       "    <tr>\n",
       "      <th>3</th>\n",
       "      <td>USC00414525</td>\n",
       "      <td>JACKSONVILLE, TX US</td>\n",
       "      <td>1960-02-04</td>\n",
       "      <td>NaN</td>\n",
       "      <td>NaN</td>\n",
       "      <td>NaN</td>\n",
       "      <td>0.0</td>\n",
       "      <td>0.0</td>\n",
       "      <td>0.0</td>\n",
       "      <td>53.0</td>\n",
       "      <td>43.0</td>\n",
       "      <td>49.0</td>\n",
       "    </tr>\n",
       "    <tr>\n",
       "      <th>4</th>\n",
       "      <td>USC00414525</td>\n",
       "      <td>JACKSONVILLE, TX US</td>\n",
       "      <td>1960-02-05</td>\n",
       "      <td>NaN</td>\n",
       "      <td>NaN</td>\n",
       "      <td>NaN</td>\n",
       "      <td>0.0</td>\n",
       "      <td>0.0</td>\n",
       "      <td>0.0</td>\n",
       "      <td>49.0</td>\n",
       "      <td>40.0</td>\n",
       "      <td>46.0</td>\n",
       "    </tr>\n",
       "  </tbody>\n",
       "</table>\n",
       "</div>"
      ],
      "text/plain": [
       "       STATION                 NAME        DATE  DAPR  MDPR  MDSF  PRCP  SNOW  \\\n",
       "0  USC00414525  JACKSONVILLE, TX US  1960-02-01   NaN   NaN   NaN   0.0   0.0   \n",
       "1  USC00414525  JACKSONVILLE, TX US  1960-02-02   NaN   NaN   NaN   0.0   0.0   \n",
       "2  USC00414525  JACKSONVILLE, TX US  1960-02-03   NaN   NaN   NaN   1.5   0.0   \n",
       "3  USC00414525  JACKSONVILLE, TX US  1960-02-04   NaN   NaN   NaN   0.0   0.0   \n",
       "4  USC00414525  JACKSONVILLE, TX US  1960-02-05   NaN   NaN   NaN   0.0   0.0   \n",
       "\n",
       "   SNWD  TMAX  TMIN  TOBS  \n",
       "0   0.0   NaN   NaN   NaN  \n",
       "1   0.0   NaN   NaN   NaN  \n",
       "2   0.0  63.0  44.0  46.0  \n",
       "3   0.0  53.0  43.0  49.0  \n",
       "4   0.0  49.0  40.0  46.0  "
      ]
     },
     "execution_count": 3,
     "metadata": {},
     "output_type": "execute_result"
    }
   ],
   "source": [
    "source_weather_data.head()"
   ]
  },
  {
   "cell_type": "markdown",
   "id": "114dcdfc",
   "metadata": {},
   "source": [
    "# Cleaning and Transforming Data\n",
    "The date field was converted to datetime objects and assigned new fields, 'MONTH' and 'DAY'. All rows containing NaN values were dropped. A new column, called 'RAIN', was created using the 'PRCP' column. Any values in the 'PRCP' column greater than zero were assigned a value of 1. Otherwise, they remained as zero to indicate that there was no precipitation that day. "
   ]
  },
  {
   "cell_type": "code",
   "execution_count": 4,
   "id": "f93996f8",
   "metadata": {},
   "outputs": [],
   "source": [
    "# DATE fields will need to be converted to datetime objects\n",
    "source_weather_data['DATE'] = pd.to_datetime(source_weather_data['DATE'])\n",
    "source_weather_data.loc[:, 'MONTH'] = source_weather_data['DATE'].dt.month\n",
    "source_weather_data.loc[:, 'DAY'] = source_weather_data['DATE'].dt.day"
   ]
  },
  {
   "cell_type": "code",
   "execution_count": 5,
   "id": "a3592538",
   "metadata": {},
   "outputs": [],
   "source": [
    "# Columns used for to clean and transform final dataframe\n",
    "columns_used = ['MONTH', 'DAY', 'PRCP', 'TMAX', 'TMIN']"
   ]
  },
  {
   "cell_type": "code",
   "execution_count": 6,
   "id": "0a0c583f",
   "metadata": {},
   "outputs": [],
   "source": [
    "# Dataframe used for transformation\n",
    "weather_data = source_weather_data[columns_used]"
   ]
  },
  {
   "cell_type": "code",
   "execution_count": 7,
   "id": "2f732bad",
   "metadata": {},
   "outputs": [
    {
     "data": {
      "text/html": [
       "<div>\n",
       "<style scoped>\n",
       "    .dataframe tbody tr th:only-of-type {\n",
       "        vertical-align: middle;\n",
       "    }\n",
       "\n",
       "    .dataframe tbody tr th {\n",
       "        vertical-align: top;\n",
       "    }\n",
       "\n",
       "    .dataframe thead th {\n",
       "        text-align: right;\n",
       "    }\n",
       "</style>\n",
       "<table border=\"1\" class=\"dataframe\">\n",
       "  <thead>\n",
       "    <tr style=\"text-align: right;\">\n",
       "      <th></th>\n",
       "      <th>MONTH</th>\n",
       "      <th>DAY</th>\n",
       "      <th>PRCP</th>\n",
       "      <th>TMAX</th>\n",
       "      <th>TMIN</th>\n",
       "    </tr>\n",
       "  </thead>\n",
       "  <tbody>\n",
       "    <tr>\n",
       "      <th>0</th>\n",
       "      <td>2</td>\n",
       "      <td>1</td>\n",
       "      <td>0.00</td>\n",
       "      <td>NaN</td>\n",
       "      <td>NaN</td>\n",
       "    </tr>\n",
       "    <tr>\n",
       "      <th>1</th>\n",
       "      <td>2</td>\n",
       "      <td>2</td>\n",
       "      <td>0.00</td>\n",
       "      <td>NaN</td>\n",
       "      <td>NaN</td>\n",
       "    </tr>\n",
       "    <tr>\n",
       "      <th>2</th>\n",
       "      <td>2</td>\n",
       "      <td>3</td>\n",
       "      <td>1.50</td>\n",
       "      <td>63.0</td>\n",
       "      <td>44.0</td>\n",
       "    </tr>\n",
       "    <tr>\n",
       "      <th>3</th>\n",
       "      <td>2</td>\n",
       "      <td>4</td>\n",
       "      <td>0.00</td>\n",
       "      <td>53.0</td>\n",
       "      <td>43.0</td>\n",
       "    </tr>\n",
       "    <tr>\n",
       "      <th>4</th>\n",
       "      <td>2</td>\n",
       "      <td>5</td>\n",
       "      <td>0.00</td>\n",
       "      <td>49.0</td>\n",
       "      <td>40.0</td>\n",
       "    </tr>\n",
       "    <tr>\n",
       "      <th>...</th>\n",
       "      <td>...</td>\n",
       "      <td>...</td>\n",
       "      <td>...</td>\n",
       "      <td>...</td>\n",
       "      <td>...</td>\n",
       "    </tr>\n",
       "    <tr>\n",
       "      <th>20711</th>\n",
       "      <td>12</td>\n",
       "      <td>27</td>\n",
       "      <td>0.00</td>\n",
       "      <td>51.0</td>\n",
       "      <td>23.0</td>\n",
       "    </tr>\n",
       "    <tr>\n",
       "      <th>20712</th>\n",
       "      <td>12</td>\n",
       "      <td>28</td>\n",
       "      <td>0.00</td>\n",
       "      <td>72.0</td>\n",
       "      <td>24.0</td>\n",
       "    </tr>\n",
       "    <tr>\n",
       "      <th>20713</th>\n",
       "      <td>12</td>\n",
       "      <td>29</td>\n",
       "      <td>0.00</td>\n",
       "      <td>72.0</td>\n",
       "      <td>64.0</td>\n",
       "    </tr>\n",
       "    <tr>\n",
       "      <th>20714</th>\n",
       "      <td>12</td>\n",
       "      <td>30</td>\n",
       "      <td>1.85</td>\n",
       "      <td>71.0</td>\n",
       "      <td>61.0</td>\n",
       "    </tr>\n",
       "    <tr>\n",
       "      <th>20715</th>\n",
       "      <td>12</td>\n",
       "      <td>31</td>\n",
       "      <td>0.00</td>\n",
       "      <td>72.0</td>\n",
       "      <td>NaN</td>\n",
       "    </tr>\n",
       "  </tbody>\n",
       "</table>\n",
       "<p>20716 rows × 5 columns</p>\n",
       "</div>"
      ],
      "text/plain": [
       "       MONTH  DAY  PRCP  TMAX  TMIN\n",
       "0          2    1  0.00   NaN   NaN\n",
       "1          2    2  0.00   NaN   NaN\n",
       "2          2    3  1.50  63.0  44.0\n",
       "3          2    4  0.00  53.0  43.0\n",
       "4          2    5  0.00  49.0  40.0\n",
       "...      ...  ...   ...   ...   ...\n",
       "20711     12   27  0.00  51.0  23.0\n",
       "20712     12   28  0.00  72.0  24.0\n",
       "20713     12   29  0.00  72.0  64.0\n",
       "20714     12   30  1.85  71.0  61.0\n",
       "20715     12   31  0.00  72.0   NaN\n",
       "\n",
       "[20716 rows x 5 columns]"
      ]
     },
     "execution_count": 7,
     "metadata": {},
     "output_type": "execute_result"
    }
   ],
   "source": [
    "# Preview of dataframe\n",
    "weather_data"
   ]
  },
  {
   "cell_type": "code",
   "execution_count": 8,
   "id": "4da38c09",
   "metadata": {},
   "outputs": [
    {
     "data": {
      "text/html": [
       "<div>\n",
       "<style scoped>\n",
       "    .dataframe tbody tr th:only-of-type {\n",
       "        vertical-align: middle;\n",
       "    }\n",
       "\n",
       "    .dataframe tbody tr th {\n",
       "        vertical-align: top;\n",
       "    }\n",
       "\n",
       "    .dataframe thead th {\n",
       "        text-align: right;\n",
       "    }\n",
       "</style>\n",
       "<table border=\"1\" class=\"dataframe\">\n",
       "  <thead>\n",
       "    <tr style=\"text-align: right;\">\n",
       "      <th></th>\n",
       "      <th>MONTH</th>\n",
       "      <th>DAY</th>\n",
       "      <th>PRCP</th>\n",
       "      <th>TMAX</th>\n",
       "      <th>TMIN</th>\n",
       "    </tr>\n",
       "  </thead>\n",
       "  <tbody>\n",
       "    <tr>\n",
       "      <th>2</th>\n",
       "      <td>2</td>\n",
       "      <td>3</td>\n",
       "      <td>1.50</td>\n",
       "      <td>63.0</td>\n",
       "      <td>44.0</td>\n",
       "    </tr>\n",
       "    <tr>\n",
       "      <th>3</th>\n",
       "      <td>2</td>\n",
       "      <td>4</td>\n",
       "      <td>0.00</td>\n",
       "      <td>53.0</td>\n",
       "      <td>43.0</td>\n",
       "    </tr>\n",
       "    <tr>\n",
       "      <th>4</th>\n",
       "      <td>2</td>\n",
       "      <td>5</td>\n",
       "      <td>0.00</td>\n",
       "      <td>49.0</td>\n",
       "      <td>40.0</td>\n",
       "    </tr>\n",
       "    <tr>\n",
       "      <th>5</th>\n",
       "      <td>2</td>\n",
       "      <td>6</td>\n",
       "      <td>0.00</td>\n",
       "      <td>62.0</td>\n",
       "      <td>33.0</td>\n",
       "    </tr>\n",
       "    <tr>\n",
       "      <th>6</th>\n",
       "      <td>2</td>\n",
       "      <td>7</td>\n",
       "      <td>0.00</td>\n",
       "      <td>64.0</td>\n",
       "      <td>38.0</td>\n",
       "    </tr>\n",
       "    <tr>\n",
       "      <th>...</th>\n",
       "      <td>...</td>\n",
       "      <td>...</td>\n",
       "      <td>...</td>\n",
       "      <td>...</td>\n",
       "      <td>...</td>\n",
       "    </tr>\n",
       "    <tr>\n",
       "      <th>20710</th>\n",
       "      <td>12</td>\n",
       "      <td>26</td>\n",
       "      <td>0.00</td>\n",
       "      <td>50.0</td>\n",
       "      <td>16.0</td>\n",
       "    </tr>\n",
       "    <tr>\n",
       "      <th>20711</th>\n",
       "      <td>12</td>\n",
       "      <td>27</td>\n",
       "      <td>0.00</td>\n",
       "      <td>51.0</td>\n",
       "      <td>23.0</td>\n",
       "    </tr>\n",
       "    <tr>\n",
       "      <th>20712</th>\n",
       "      <td>12</td>\n",
       "      <td>28</td>\n",
       "      <td>0.00</td>\n",
       "      <td>72.0</td>\n",
       "      <td>24.0</td>\n",
       "    </tr>\n",
       "    <tr>\n",
       "      <th>20713</th>\n",
       "      <td>12</td>\n",
       "      <td>29</td>\n",
       "      <td>0.00</td>\n",
       "      <td>72.0</td>\n",
       "      <td>64.0</td>\n",
       "    </tr>\n",
       "    <tr>\n",
       "      <th>20714</th>\n",
       "      <td>12</td>\n",
       "      <td>30</td>\n",
       "      <td>1.85</td>\n",
       "      <td>71.0</td>\n",
       "      <td>61.0</td>\n",
       "    </tr>\n",
       "  </tbody>\n",
       "</table>\n",
       "<p>19202 rows × 5 columns</p>\n",
       "</div>"
      ],
      "text/plain": [
       "       MONTH  DAY  PRCP  TMAX  TMIN\n",
       "2          2    3  1.50  63.0  44.0\n",
       "3          2    4  0.00  53.0  43.0\n",
       "4          2    5  0.00  49.0  40.0\n",
       "5          2    6  0.00  62.0  33.0\n",
       "6          2    7  0.00  64.0  38.0\n",
       "...      ...  ...   ...   ...   ...\n",
       "20710     12   26  0.00  50.0  16.0\n",
       "20711     12   27  0.00  51.0  23.0\n",
       "20712     12   28  0.00  72.0  24.0\n",
       "20713     12   29  0.00  72.0  64.0\n",
       "20714     12   30  1.85  71.0  61.0\n",
       "\n",
       "[19202 rows x 5 columns]"
      ]
     },
     "execution_count": 8,
     "metadata": {},
     "output_type": "execute_result"
    }
   ],
   "source": [
    "# Cleaning up NaN values and preview to show that changes were made\n",
    "weather_data = weather_data.dropna()\n",
    "weather_data"
   ]
  },
  {
   "cell_type": "code",
   "execution_count": 9,
   "id": "5f125f68",
   "metadata": {},
   "outputs": [
    {
     "data": {
      "text/html": [
       "<div>\n",
       "<style scoped>\n",
       "    .dataframe tbody tr th:only-of-type {\n",
       "        vertical-align: middle;\n",
       "    }\n",
       "\n",
       "    .dataframe tbody tr th {\n",
       "        vertical-align: top;\n",
       "    }\n",
       "\n",
       "    .dataframe thead th {\n",
       "        text-align: right;\n",
       "    }\n",
       "</style>\n",
       "<table border=\"1\" class=\"dataframe\">\n",
       "  <thead>\n",
       "    <tr style=\"text-align: right;\">\n",
       "      <th></th>\n",
       "      <th>MONTH</th>\n",
       "      <th>DAY</th>\n",
       "      <th>PRCP</th>\n",
       "      <th>TMAX</th>\n",
       "      <th>TMIN</th>\n",
       "      <th>RAIN</th>\n",
       "    </tr>\n",
       "  </thead>\n",
       "  <tbody>\n",
       "    <tr>\n",
       "      <th>2</th>\n",
       "      <td>2</td>\n",
       "      <td>3</td>\n",
       "      <td>1.50</td>\n",
       "      <td>63.0</td>\n",
       "      <td>44.0</td>\n",
       "      <td>1</td>\n",
       "    </tr>\n",
       "    <tr>\n",
       "      <th>3</th>\n",
       "      <td>2</td>\n",
       "      <td>4</td>\n",
       "      <td>0.00</td>\n",
       "      <td>53.0</td>\n",
       "      <td>43.0</td>\n",
       "      <td>0</td>\n",
       "    </tr>\n",
       "    <tr>\n",
       "      <th>4</th>\n",
       "      <td>2</td>\n",
       "      <td>5</td>\n",
       "      <td>0.00</td>\n",
       "      <td>49.0</td>\n",
       "      <td>40.0</td>\n",
       "      <td>0</td>\n",
       "    </tr>\n",
       "    <tr>\n",
       "      <th>5</th>\n",
       "      <td>2</td>\n",
       "      <td>6</td>\n",
       "      <td>0.00</td>\n",
       "      <td>62.0</td>\n",
       "      <td>33.0</td>\n",
       "      <td>0</td>\n",
       "    </tr>\n",
       "    <tr>\n",
       "      <th>6</th>\n",
       "      <td>2</td>\n",
       "      <td>7</td>\n",
       "      <td>0.00</td>\n",
       "      <td>64.0</td>\n",
       "      <td>38.0</td>\n",
       "      <td>0</td>\n",
       "    </tr>\n",
       "    <tr>\n",
       "      <th>...</th>\n",
       "      <td>...</td>\n",
       "      <td>...</td>\n",
       "      <td>...</td>\n",
       "      <td>...</td>\n",
       "      <td>...</td>\n",
       "      <td>...</td>\n",
       "    </tr>\n",
       "    <tr>\n",
       "      <th>20710</th>\n",
       "      <td>12</td>\n",
       "      <td>26</td>\n",
       "      <td>0.00</td>\n",
       "      <td>50.0</td>\n",
       "      <td>16.0</td>\n",
       "      <td>0</td>\n",
       "    </tr>\n",
       "    <tr>\n",
       "      <th>20711</th>\n",
       "      <td>12</td>\n",
       "      <td>27</td>\n",
       "      <td>0.00</td>\n",
       "      <td>51.0</td>\n",
       "      <td>23.0</td>\n",
       "      <td>0</td>\n",
       "    </tr>\n",
       "    <tr>\n",
       "      <th>20712</th>\n",
       "      <td>12</td>\n",
       "      <td>28</td>\n",
       "      <td>0.00</td>\n",
       "      <td>72.0</td>\n",
       "      <td>24.0</td>\n",
       "      <td>0</td>\n",
       "    </tr>\n",
       "    <tr>\n",
       "      <th>20713</th>\n",
       "      <td>12</td>\n",
       "      <td>29</td>\n",
       "      <td>0.00</td>\n",
       "      <td>72.0</td>\n",
       "      <td>64.0</td>\n",
       "      <td>0</td>\n",
       "    </tr>\n",
       "    <tr>\n",
       "      <th>20714</th>\n",
       "      <td>12</td>\n",
       "      <td>30</td>\n",
       "      <td>1.85</td>\n",
       "      <td>71.0</td>\n",
       "      <td>61.0</td>\n",
       "      <td>1</td>\n",
       "    </tr>\n",
       "  </tbody>\n",
       "</table>\n",
       "<p>19202 rows × 6 columns</p>\n",
       "</div>"
      ],
      "text/plain": [
       "       MONTH  DAY  PRCP  TMAX  TMIN  RAIN\n",
       "2          2    3  1.50  63.0  44.0     1\n",
       "3          2    4  0.00  53.0  43.0     0\n",
       "4          2    5  0.00  49.0  40.0     0\n",
       "5          2    6  0.00  62.0  33.0     0\n",
       "6          2    7  0.00  64.0  38.0     0\n",
       "...      ...  ...   ...   ...   ...   ...\n",
       "20710     12   26  0.00  50.0  16.0     0\n",
       "20711     12   27  0.00  51.0  23.0     0\n",
       "20712     12   28  0.00  72.0  24.0     0\n",
       "20713     12   29  0.00  72.0  64.0     0\n",
       "20714     12   30  1.85  71.0  61.0     1\n",
       "\n",
       "[19202 rows x 6 columns]"
      ]
     },
     "execution_count": 9,
     "metadata": {},
     "output_type": "execute_result"
    }
   ],
   "source": [
    "# Limit is the threshold of precipitation for RAIN column.\n",
    "limit = 0\n",
    "\n",
    "weather_data = weather_data.copy()\n",
    "\n",
    "# Any value greater than limit will be assigned a 1\n",
    "weather_data['RAIN'] = np.where(weather_data['PRCP'] > limit, 1, 0)\n",
    "\n",
    "columns_used = ['MONTH', 'DAY','TMIN', 'TMAX', 'RAIN']\n",
    "\n",
    "weather_data"
   ]
  },
  {
   "cell_type": "markdown",
   "id": "4b983a3e",
   "metadata": {},
   "source": [
    "### Daily Minimum Temperature By Month\n",
    "#### Heatmap displays the months and days crops are at most risk of cold related damgage in blue.\n",
    "January, February, March, November, and December are represented as months with the lowest minimum temperatures."
   ]
  },
  {
   "cell_type": "code",
   "execution_count": 10,
   "id": "4275e185",
   "metadata": {},
   "outputs": [
    {
     "data": {
      "image/png": "[encoded data removed]",
      "text/plain": [
       "<Figure size 640x480 with 2 Axes>"
      ]
     },
     "metadata": {},
     "output_type": "display_data"
    }
   ],
   "source": [
    "heatmap_wd = weather_data.pivot_table(index='MONTH', columns='DAY', values='TMIN');\n",
    "sns.heatmap(heatmap_wd, cmap='coolwarm', linecolor='white', linewidths=1, cbar_kws={'label': 'Temperature In Farenheit'});"
   ]
  },
  {
   "cell_type": "markdown",
   "id": "500533ae",
   "metadata": {},
   "source": [
    "# Building the models"
   ]
  },
  {
   "cell_type": "code",
   "execution_count": 11,
   "id": "5fceb9fa",
   "metadata": {
    "scrolled": true
   },
   "outputs": [],
   "source": [
    "from sklearn.svm import SVR\n",
    "from sklearn.ensemble import RandomForestRegressor\n",
    "from sklearn.ensemble import BaggingRegressor\n",
    "\n",
    "# Setup random seed\n",
    "np.random.seed(32)\n",
    "\n",
    "\n",
    "\n",
    "# Creating the data\n",
    "weather_df = weather_data[columns_used]\n",
    "\n",
    "# TMIN will be the predicted value\n",
    "X = weather_df.drop(\"TMIN\", axis=1)\n",
    "y = weather_df[\"TMIN\"]\n",
    "\n",
    "# Splitting data into training and test sets.\n",
    "# 80% of the data is allocated to train the model while the reamining 20% is used for testing the model.\n",
    "X_train, X_test, y_train, y_test = train_test_split(X, y, test_size=0.2)"
   ]
  },
  {
   "cell_type": "markdown",
   "id": "ff348d70",
   "metadata": {},
   "source": [
    "### Bagging Regressor Model"
   ]
  },
  {
   "cell_type": "code",
   "execution_count": 12,
   "id": "704f0dc4",
   "metadata": {},
   "outputs": [],
   "source": [
    "# Fit model\n",
    "model_BR = BaggingRegressor(max_features= 1.0, max_samples= 0.15, n_estimators= 200, random_state=32);\n",
    "model_BR.fit(X_train, y_train);\n",
    "\n"
   ]
  },
  {
   "cell_type": "code",
   "execution_count": 13,
   "id": "9ef91a1d",
   "metadata": {},
   "outputs": [
    {
     "data": {
      "text/plain": [
       "0.8631946703286788"
      ]
     },
     "execution_count": 13,
     "metadata": {},
     "output_type": "execute_result"
    }
   ],
   "source": [
    "model_BR.score(X_train, y_train)"
   ]
  },
  {
   "cell_type": "code",
   "execution_count": 14,
   "id": "3334246b",
   "metadata": {},
   "outputs": [
    {
     "data": {
      "text/plain": [
       "0.8161610409274824"
      ]
     },
     "execution_count": 14,
     "metadata": {},
     "output_type": "execute_result"
    }
   ],
   "source": [
    "model_BR.score(X_test, y_test)"
   ]
  },
  {
   "cell_type": "markdown",
   "id": "d1ebe03f",
   "metadata": {},
   "source": [
    "### Random Forest Regressor Model"
   ]
  },
  {
   "cell_type": "code",
   "execution_count": 15,
   "id": "88441c18",
   "metadata": {},
   "outputs": [],
   "source": [
    "model_RFR = RandomForestRegressor(n_estimators=200, random_state=32)\n",
    "model_RFR.fit(X_train, y_train);"
   ]
  },
  {
   "cell_type": "code",
   "execution_count": 16,
   "id": "9b34fbe3",
   "metadata": {},
   "outputs": [
    {
     "data": {
      "text/plain": [
       "0.9300114194885294"
      ]
     },
     "execution_count": 16,
     "metadata": {},
     "output_type": "execute_result"
    }
   ],
   "source": [
    "model_RFR.score(X_train, y_train)"
   ]
  },
  {
   "cell_type": "code",
   "execution_count": 17,
   "id": "cbbae2ec",
   "metadata": {},
   "outputs": [
    {
     "data": {
      "text/plain": [
       "0.7746754453294505"
      ]
     },
     "execution_count": 17,
     "metadata": {},
     "output_type": "execute_result"
    }
   ],
   "source": [
    "model_RFR.score(X_test, y_test)"
   ]
  },
  {
   "cell_type": "markdown",
   "id": "3e800903",
   "metadata": {},
   "source": [
    "### Support Vector Regression Model"
   ]
  },
  {
   "cell_type": "code",
   "execution_count": 18,
   "id": "7de54fbd",
   "metadata": {},
   "outputs": [],
   "source": [
    "model_SVR = SVR(kernel='linear', C=1.0, epsilon=0.1)\n",
    "model_SVR.fit(X_train, y_train);"
   ]
  },
  {
   "cell_type": "code",
   "execution_count": 19,
   "id": "f4db605c",
   "metadata": {},
   "outputs": [
    {
     "data": {
      "text/plain": [
       "0.7773519146371262"
      ]
     },
     "execution_count": 19,
     "metadata": {},
     "output_type": "execute_result"
    }
   ],
   "source": [
    "model_SVR.score(X_train, y_train)"
   ]
  },
  {
   "cell_type": "code",
   "execution_count": 20,
   "id": "f4c9d3d9",
   "metadata": {},
   "outputs": [
    {
     "data": {
      "text/plain": [
       "0.7741289594725028"
      ]
     },
     "execution_count": 20,
     "metadata": {},
     "output_type": "execute_result"
    }
   ],
   "source": [
    "model_SVR.score(X_test, y_test)"
   ]
  },
  {
   "cell_type": "markdown",
   "id": "3ede52fa",
   "metadata": {},
   "source": [
    "# Evaluation Metrics\n",
    "The models were evaluated using both Mean Absolute Error (MAE) and R² score metrics. MAE provides a measurement for the average amplitude of error in the predictions without bias for direction. A MAE score of zero indicates the model is making perfect predictions. The R² score is a measurement of variance between the dependent variable (minimum temperature) and independent variables (rainfall, daily high temperature, month, and day). An R² score of 1 indicates that the model's dependent variable is perfectly explained by the independent variables."
   ]
  },
  {
   "cell_type": "code",
   "execution_count": 21,
   "id": "c0de07a3",
   "metadata": {},
   "outputs": [],
   "source": [
    "y_true = y_test"
   ]
  },
  {
   "cell_type": "markdown",
   "id": "0697e31d",
   "metadata": {},
   "source": [
    "### Bagging Regressor"
   ]
  },
  {
   "cell_type": "code",
   "execution_count": 22,
   "id": "f1fbedc4",
   "metadata": {},
   "outputs": [
    {
     "name": "stdout",
     "output_type": "stream",
     "text": [
      "5.0300525439803625\n"
     ]
    }
   ],
   "source": [
    "# mean absolute error: BaggingRegressor Model\n",
    "y_pred = model_BR.predict(X_test)\n",
    "bagging_regressor_mae =mae(y_true, y_pred)\n",
    "print(bagging_regressor_mae)"
   ]
  },
  {
   "cell_type": "code",
   "execution_count": 23,
   "id": "20637c2f",
   "metadata": {},
   "outputs": [
    {
     "name": "stdout",
     "output_type": "stream",
     "text": [
      "0.8161610409274824\n"
     ]
    }
   ],
   "source": [
    "# R² score: BaggingRegressor Model\n",
    "bagging_regressor_r2 = r2_score(y_true, y_pred);\n",
    "print(bagging_regressor_r2)\n"
   ]
  },
  {
   "cell_type": "markdown",
   "id": "b3bf3ef4",
   "metadata": {},
   "source": [
    "### Random Forest Regressor"
   ]
  },
  {
   "cell_type": "code",
   "execution_count": 24,
   "id": "3adf679a",
   "metadata": {},
   "outputs": [
    {
     "name": "stdout",
     "output_type": "stream",
     "text": [
      "5.52425460145645\n"
     ]
    }
   ],
   "source": [
    "# mean absolute error: Random Forest Regressor\n",
    "y_pred = model_RFR.predict(X_test)\n",
    "random_forest_mae = mae(y_true, y_pred)\n",
    "print(random_forest_mae)"
   ]
  },
  {
   "cell_type": "code",
   "execution_count": 25,
   "id": "9263072c",
   "metadata": {},
   "outputs": [
    {
     "name": "stdout",
     "output_type": "stream",
     "text": [
      "0.7746754453294505\n"
     ]
    }
   ],
   "source": [
    "# R² score: Random Forest Regressor\n",
    "random_forest_r2 = r2_score(y_true, y_pred);\n",
    "print(random_forest_r2)"
   ]
  },
  {
   "cell_type": "markdown",
   "id": "758f92c5",
   "metadata": {},
   "source": [
    "### Support Vector Regression"
   ]
  },
  {
   "cell_type": "code",
   "execution_count": 26,
   "id": "9ee10573",
   "metadata": {},
   "outputs": [
    {
     "name": "stdout",
     "output_type": "stream",
     "text": [
      "5.746338742400952\n"
     ]
    }
   ],
   "source": [
    "# mean absolute error: Support Vector Regression\n",
    "y_pred = model_SVR.predict(X_test)\n",
    "svr_mae = mae(y_true, y_pred)\n",
    "print(svr_mae)"
   ]
  },
  {
   "cell_type": "code",
   "execution_count": 27,
   "id": "dc28d2f3",
   "metadata": {},
   "outputs": [
    {
     "name": "stdout",
     "output_type": "stream",
     "text": [
      "0.7741289594725028\n"
     ]
    }
   ],
   "source": [
    "# R² score: Support Vector Regression\n",
    "svr_r2 = r2_score(y_true, y_pred);\n",
    "print(svr_r2)"
   ]
  },
  {
   "cell_type": "code",
   "execution_count": 28,
   "id": "78743594",
   "metadata": {},
   "outputs": [
    {
     "data": {
      "image/png": "[encoded data removed]",
      "text/plain": [
       "<Figure size 800x400 with 1 Axes>"
      ]
     },
     "metadata": {},
     "output_type": "display_data"
    }
   ],
   "source": [
    "models = ['Bagging Regressor', 'Random Forest Regressor', 'Support Vector Regression']\n",
    "mae_scores = [bagging_regressor_mae, random_forest_mae, svr_mae]\n",
    "plt.figure(figsize=(8,4));\n",
    "sns.barplot(x=models, y=mae_scores);\n",
    "plt.xlabel('Models');\n",
    "plt.ylabel('Mean Absolute Error (**smaller is better)');\n",
    "plt.title('MAE Comparison of Models');"
   ]
  },
  {
   "cell_type": "code",
   "execution_count": 29,
   "id": "61c56598",
   "metadata": {},
   "outputs": [
    {
     "data": {
      "image/png": "[encoded data removed]",
      "text/plain": [
       "<Figure size 800x400 with 1 Axes>"
      ]
     },
     "metadata": {},
     "output_type": "display_data"
    }
   ],
   "source": [
    "models = ['Bagging Regressor', 'Random Forest Regressor', 'Support Vector Regression']\n",
    "r2_scores = [bagging_regressor_r2, random_forest_r2, svr_r2]\n",
    "plt.figure(figsize=(8,4));\n",
    "sns.barplot(x=models, y=r2_scores);\n",
    "plt.xlabel('Models');\n",
    "plt.ylabel('R² Score (**Closest to 1 is better)');\n",
    "plt.title('R² Score Comparison of Models');"
   ]
  },
  {
   "cell_type": "markdown",
   "id": "b6c23594",
   "metadata": {},
   "source": [
    "## Results and Selection:\n",
    "      "
   ]
  },
  {
   "cell_type": "markdown",
   "id": "09dc81ec",
   "metadata": {},
   "source": [
    "Upon analysis of R² and MAE, the Bagging Regressor model will be the selected model as it outperforms both, Random Forest Regressor, and Support Vector Regression models."
   ]
  },
  {
   "cell_type": "markdown",
   "id": "2e0cfb1e",
   "metadata": {},
   "source": [
    "#### Scatterplot Visualization of Bagging Regressor Model"
   ]
  },
  {
   "cell_type": "code",
   "execution_count": 30,
   "id": "eae47efc",
   "metadata": {},
   "outputs": [
    {
     "data": {
      "image/png": "[encoded data removed]",
      "text/plain": [
       "<Figure size 640x480 with 1 Axes>"
      ]
     },
     "metadata": {},
     "output_type": "display_data"
    }
   ],
   "source": [
    "y_pred = model_BR.predict(X_test);\n",
    "plt.scatter(y_test, y_pred);\n",
    "plt.plot([y_test.min(), y_test.max()], [y_test.min(), y_test.max()], '--', lw=2, color='red');\n",
    "plt.xlabel('True Values')\n",
    "plt.ylabel('Predicted Values')\n",
    "plt.title('Bagging Regressor')\n",
    "plt.annotate('R² = {:.2f}'.format(bagging_regressor_r2), xy=(0.05,0.95), xycoords='axes fraction');\n",
    "plt.annotate('MAE = {:.2f}'.format(bagging_regressor_mae), xy=(0.05, 0.90), xycoords='axes fraction');"
   ]
  },
  {
   "cell_type": "markdown",
   "id": "04c14cbc",
   "metadata": {},
   "source": [
    "#### Histogram Visualization of Bagging Regressor Model"
   ]
  },
  {
   "cell_type": "markdown",
   "id": "fae43b08",
   "metadata": {},
   "source": [
    "Residual analysis is performed to determine the quality of the Bagging Regressor Model. Ideally, all values would be as close to zero as possible. Although there are some outliers, the majority of residuals are centered around zero which indicates good performance."
   ]
  },
  {
   "cell_type": "code",
   "execution_count": 31,
   "id": "6c91ab70",
   "metadata": {
    "scrolled": true
   },
   "outputs": [
    {
     "data": {
      "image/png": "[encoded data removed]",
      "text/plain": [
       "<Figure size 640x480 with 1 Axes>"
      ]
     },
     "metadata": {},
     "output_type": "display_data"
    }
   ],
   "source": [
    "residuals = y_test - y_pred\n",
    "sns.histplot(residuals, bins=80, color='red', kde=True);\n",
    "plt.xlabel('Residuals');\n",
    "plt.ylabel('Frequency of Occurrence');\n",
    "plt.title('Histogram Analysis of Residuals');"
   ]
  },
  {
   "cell_type": "markdown",
   "id": "6668daf9",
   "metadata": {},
   "source": [
    "# Save and Load Model "
   ]
  },
  {
   "cell_type": "code",
   "execution_count": 32,
   "id": "f3679a2e",
   "metadata": {},
   "outputs": [],
   "source": [
    "# Saves/Dumps Bagging Regressor model as f\n",
    "import pickle \n",
    "with open('pkl_model', 'wb') as f:\n",
    "    pickle.dump(model_BR,f)"
   ]
  },
  {
   "cell_type": "code",
   "execution_count": 33,
   "id": "8806ed83",
   "metadata": {},
   "outputs": [],
   "source": [
    "# Loads Bagging Regressor model for use in application\n",
    "import pickle\n",
    "with open('pkl_model', 'rb') as f:\n",
    "    pkl_m = pickle.load(f)"
   ]
  },
  {
   "cell_type": "code",
   "execution_count": 34,
   "id": "1ba37f4f",
   "metadata": {},
   "outputs": [],
   "source": [
    "## Future Implementation Using Average High Temperature\n",
    "#daily_av_high = {}\n",
    "#for month in range(1, 13):\n",
    "#    for day in range(1, 32):\n",
    "#        days_of_month = weather_df[(weather_df['MONTH'] == month) & (weather_df['DAY'] == day)]        \n",
    "#        if not days_of_month.empty:            \n",
    "#            av_high = int(days_of_month['TMAX'].mean())                \n",
    "#            daily_av_high[(month, day)] = av_high\n",
    "#            \n",
    "#daily_av_high.get((10,5))            "
   ]
  },
  {
   "cell_type": "code",
   "execution_count": 35,
   "id": "f95cad87",
   "metadata": {},
   "outputs": [],
   "source": [
    "# Returns number of days in the month based on selected number corresponding to the selected month.\n",
    "# To include leap years, Feb. is defaulted at 29 days.\n",
    "def delta_days(month):\n",
    "    if month in[1, 3, 5, 7, 8, 10, 12]:\n",
    "        return 31\n",
    "    elif month in[4, 6, 9, 11]:\n",
    "        return 30\n",
    "    elif month == 2:\n",
    "        return 29"
   ]
  },
  {
   "cell_type": "code",
   "execution_count": 36,
   "id": "807b5a6a",
   "metadata": {},
   "outputs": [],
   "source": [
    "# Function uses model to check the minimum temperature for a selected day. If the low temperature is at or below\n",
    "# freezing(32 degrees F), then makes a recommendation on whether or not to protect crops. \n",
    "def min_temp_prediction(month, day, tmax, rain):\n",
    "    is_rain = 0\n",
    "    if rain == 'Yes':\n",
    "        is_rain = 1\n",
    "    else:\n",
    "        is_rain = 0\n",
    "    #prediction_data = {'MONTH': month,'DAY': day,'TMAX': daily_av_high.get((month,day)),'RAIN': rain}\n",
    "    prediction_data = {'MONTH': month,'DAY': day,'TMAX': tmax,'RAIN': is_rain}\n",
    "    prediction_df = pd.DataFrame([prediction_data])\n",
    "    min_temp_array = pkl_m.predict(prediction_df)\n",
    "    if min_temp_array[0] <=32:\n",
    "        print('Expected low of {} degrees farenheit. Frost protection for crops is advised'.format(int(min_temp_array[0])))\n",
    "    else:\n",
    "        print('Expected low of {} degrees farenheit. Crops should not require frost protection'.format(int(min_temp_array[0])))\n",
    "    sns.scatterplot(x =weather_df['TMAX'], y=weather_df['TMIN'], alpha=0.5, label='Temperature Data (Fahrenheit)')\n",
    "    plt.scatter(tmax, int(min_temp_array[0]), color='yellow', marker='*', label='Predicted Low Temperature')\n",
    "    plt.xlabel('Daily High Temperature')\n",
    "    plt.ylabel('Daily Low Temperature')\n",
    "    plt.legend()\n",
    "    day_slider.max = delta_days(month) #Included to adjust the days of each month as widgets.interact() can only pass one method\n",
    "    return    \n"
   ]
  },
  {
   "cell_type": "code",
   "execution_count": 37,
   "id": "05f25523",
   "metadata": {},
   "outputs": [
    {
     "data": {
      "application/vnd.jupyter.widget-view+json": {
       "model_id": "b6ceebbb6d374483a8dd2734b969bee0",
       "version_major": 2,
       "version_minor": 0
      },
      "text/plain": [
       "interactive(children=(IntSlider(value=1, description='Month:', max=12, min=1), IntSlider(value=1, description=…"
      ]
     },
     "metadata": {},
     "output_type": "display_data"
    }
   ],
   "source": [
    "month_slider = widgets.IntSlider(value = 1, min=1, max=12, description='Month:');\n",
    "day_slider = widgets.IntSlider(value=1, min=1, max=31, description='Day:');\n",
    "max_temp_slider = widgets.IntSlider(value=60, min=0, max=110, description='Daily High:');\n",
    "rain_dropdown = widgets.Dropdown(options=[('Yes'),('No')], description='Rainfall');\n",
    "widgets.interact(min_temp_prediction, month=month_slider, day=day_slider, tmax=max_temp_slider, rain=rain_dropdown);    \n",
    "\n",
    "\n",
    "\n"
   ]
  }
 ],
 "metadata": {
  "kernelspec": {
   "display_name": "Python 3 (ipykernel)",
   "language": "python",
   "name": "python3"
  },
  "language_info": {
   "codemirror_mode": {
    "name": "ipython",
    "version": 3
   },
   "file_extension": ".py",
   "mimetype": "text/x-python",
   "name": "python",
   "nbconvert_exporter": "python",
   "pygments_lexer": "ipython3",
   "version": "3.11.5"
  }
 },
 "nbformat": 4,
 "nbformat_minor": 5
}
